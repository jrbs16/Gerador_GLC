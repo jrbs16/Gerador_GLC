{
 "cells": [
  {
   "cell_type": "code",
   "execution_count": 5,
   "metadata": {},
   "outputs": [
    {
     "name": "stdout",
     "output_type": "stream",
     "text": [
      "/home/jarbas/LFA_Atividades/Jarbas_GeraFrases/exemplo_1.csv\n",
      "[\"['S', 'MP', '.'],\\n\", \"['MP', 'P'],\\n\", \"['MP', 'P', ',', 'MP'],\\n\", \"['P', 'O JOHN LENNON ', 'A', 'L'],\\n\", \"['P', 'A ARETHA FRANKLIN ', 'A', 'L'],\\n\", \"['P', 'O FREDDIE MERCURY ', 'A', 'L'],\\n\", \"['A', 'CANTOU COM '],\\n\", \"['A', 'PERFORMOU COM '],\\n\", \"['L', 'C', ',', 'L'],\\n\", \"['L', 'C'],\\n\", \"['C', 'O ELTON JOHN '],\\n\", \"['C', 'A WHITNEY HOUSTON '],\\n\", \"['C', 'O DAVID BOWIE ']\"]\n",
      "<class 'list'>\n"
     ]
    }
   ],
   "source": [
    "import os\n",
    "arquivos_csv = [arquivo for arquivo in os.listdir() if arquivo.endswith('.csv')]\n",
    "#print(arquivos_csv)\n",
    "\n",
    "#Lendo o arquivo \n",
    "caminho= os.path.join(os.getcwd(),arquivos_csv[0])\n",
    "print(caminho)\n",
    "\n",
    "#Salvando o conteúdo do arquivo em uma lista\n",
    "with open(caminho, 'r') as arquivo:\n",
    "    conteudo = arquivo.readlines()\n",
    "    print(conteudo)\n",
    "    print(type(conteudo))"
   ]
  }
 ],
 "metadata": {
  "kernelspec": {
   "display_name": "geraFrases",
   "language": "python",
   "name": "python3"
  },
  "language_info": {
   "codemirror_mode": {
    "name": "ipython",
    "version": 3
   },
   "file_extension": ".py",
   "mimetype": "text/x-python",
   "name": "python",
   "nbconvert_exporter": "python",
   "pygments_lexer": "ipython3",
   "version": "3.13.0"
  }
 },
 "nbformat": 4,
 "nbformat_minor": 2
}
